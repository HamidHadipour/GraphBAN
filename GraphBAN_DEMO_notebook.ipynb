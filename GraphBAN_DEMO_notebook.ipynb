{
  "cells": [
    {
      "cell_type": "code",
      "execution_count": null,
      "metadata": {
        "colab": {
          "base_uri": "https://localhost:8080/"
        },
        "id": "w68MrLEfxnxo",
        "outputId": "5021d276-4986-491a-dee5-18cfd8eaa9e1"
      },
      "outputs": [
        {
          "name": "stdout",
          "output_type": "stream",
          "text": [
            "Looking in links: https://data.pyg.org/whl/torch-2.0.1+cu117.html\n",
            "Requirement already satisfied: torch-scatter in /home/hamid/python3-virtualenv/lib/python3.11/site-packages (2.1.1+pt20cu117)\n",
            "Looking in links: https://data.pyg.org/whl/torch-2.0.1+cu117.html\n",
            "Requirement already satisfied: torch-sparse in /home/hamid/python3-virtualenv/lib/python3.11/site-packages (0.6.17+pt20cu117)\n",
            "Requirement already satisfied: scipy in /home/hamid/python3-virtualenv/lib/python3.11/site-packages (from torch-sparse) (1.11.2)\n",
            "Requirement already satisfied: numpy<1.28.0,>=1.21.6 in /home/hamid/python3-virtualenv/lib/python3.11/site-packages (from scipy->torch-sparse) (1.25.2)\n",
            "^C\n",
            "Traceback (most recent call last):\n",
            "  File \"/home/hamid/python3-virtualenv/bin/pip\", line 5, in <module>\n",
            "    from pip._internal.cli.main import main\n",
            "  File \"/home/hamid/python3-virtualenv/lib/python3.11/site-packages/pip/_internal/cli/main.py\", line 10, in <module>\n",
            "    from pip._internal.cli.autocompletion import autocomplete\n",
            "  File \"/home/hamid/python3-virtualenv/lib/python3.11/site-packages/pip/_internal/cli/autocompletion.py\", line 10, in <module>\n",
            "    from pip._internal.cli.main_parser import create_main_parser\n",
            "  File \"/home/hamid/python3-virtualenv/lib/python3.11/site-packages/pip/_internal/cli/main_parser.py\", line 9, in <module>\n",
            "    from pip._internal.build_env import get_runnable_pip\n",
            "  File \"/home/hamid/python3-virtualenv/lib/python3.11/site-packages/pip/_internal/build_env.py\", line 19, in <module>\n",
            "    from pip._internal.cli.spinners import open_spinner\n",
            "  File \"/home/hamid/python3-virtualenv/lib/python3.11/site-packages/pip/_internal/cli/spinners.py\", line 9, in <module>\n",
            "    from pip._internal.utils.logging import get_indentation\n",
            "  File \"/home/hamid/python3-virtualenv/lib/python3.11/site-packages/pip/_internal/utils/logging.py\", line 29, in <module>\n",
            "    from pip._internal.utils.misc import ensure_dir\n",
            "  File \"/home/hamid/python3-virtualenv/lib/python3.11/site-packages/pip/_internal/utils/misc.py\", line 37, in <module>\n",
            "    from pip._vendor.tenacity import retry, stop_after_delay, wait_fixed\n",
            "  File \"/home/hamid/python3-virtualenv/lib/python3.11/site-packages/pip/_vendor/tenacity/__init__.py\", line 548, in <module>\n",
            "    from pip._vendor.tenacity._asyncio import AsyncRetrying  # noqa:E402,I100\n",
            "    ^^^^^^^^^^^^^^^^^^^^^^^^^^^^^^^^^^^^^^^^^^^^^^^^^^^^^^^\n",
            "  File \"/home/hamid/python3-virtualenv/lib/python3.11/site-packages/pip/_vendor/tenacity/_asyncio.py\", line 21, in <module>\n",
            "    from asyncio import sleep\n",
            "  File \"/home/hamid/miniconda3/lib/python3.11/asyncio/__init__.py\", line 8, in <module>\n",
            "    from .base_events import *\n",
            "  File \"/home/hamid/miniconda3/lib/python3.11/asyncio/base_events.py\", line 44, in <module>\n",
            "    from . import sslproto\n",
            "  File \"/home/hamid/miniconda3/lib/python3.11/asyncio/sslproto.py\", line 27, in <module>\n",
            "    class AppProtocolState(enum.Enum):\n",
            "  File \"/home/hamid/miniconda3/lib/python3.11/enum.py\", line 596, in __new__\n",
            "    enum_method = getattr(first_enum, name)\n",
            "                  ^^^^^^^^^^^^^^^^^^^^^^^^^\n",
            "KeyboardInterrupt\n",
            "Looking in links: https://data.pyg.org/whl/torch-2.0.1+cu117.html\n",
            "Requirement already satisfied: torch-spline-conv in /home/hamid/python3-virtualenv/lib/python3.11/site-packages (1.2.2+pt20cu117)\n",
            "Requirement already satisfied: torch-geometric in /home/hamid/python3-virtualenv/lib/python3.11/site-packages (2.3.1)\n",
            "Requirement already satisfied: tqdm in /home/hamid/python3-virtualenv/lib/python3.11/site-packages (from torch-geometric) (4.66.1)\n",
            "Requirement already satisfied: numpy in /home/hamid/python3-virtualenv/lib/python3.11/site-packages (from torch-geometric) (1.25.2)\n",
            "Requirement already satisfied: scipy in /home/hamid/python3-virtualenv/lib/python3.11/site-packages (from torch-geometric) (1.11.2)\n",
            "Requirement already satisfied: jinja2 in /home/hamid/python3-virtualenv/lib/python3.11/site-packages (from torch-geometric) (3.1.2)\n",
            "Requirement already satisfied: requests in /home/hamid/python3-virtualenv/lib/python3.11/site-packages (from torch-geometric) (2.31.0)\n",
            "Requirement already satisfied: pyparsing in /home/hamid/python3-virtualenv/lib/python3.11/site-packages (from torch-geometric) (3.1.1)\n",
            "Requirement already satisfied: scikit-learn in /home/hamid/python3-virtualenv/lib/python3.11/site-packages (from torch-geometric) (1.3.0)\n",
            "Requirement already satisfied: psutil>=5.8.0 in /home/hamid/python3-virtualenv/lib/python3.11/site-packages (from torch-geometric) (5.9.5)\n",
            "Requirement already satisfied: MarkupSafe>=2.0 in /home/hamid/python3-virtualenv/lib/python3.11/site-packages (from jinja2->torch-geometric) (2.1.3)\n",
            "Requirement already satisfied: charset-normalizer<4,>=2 in /home/hamid/python3-virtualenv/lib/python3.11/site-packages (from requests->torch-geometric) (3.2.0)\n",
            "Requirement already satisfied: idna<4,>=2.5 in /home/hamid/python3-virtualenv/lib/python3.11/site-packages (from requests->torch-geometric) (3.4)\n",
            "Requirement already satisfied: urllib3<3,>=1.21.1 in /home/hamid/python3-virtualenv/lib/python3.11/site-packages (from requests->torch-geometric) (2.0.4)\n",
            "Requirement already satisfied: certifi>=2017.4.17 in /home/hamid/python3-virtualenv/lib/python3.11/site-packages (from requests->torch-geometric) (2023.7.22)\n",
            "Requirement already satisfied: joblib>=1.1.1 in /home/hamid/python3-virtualenv/lib/python3.11/site-packages (from scikit-learn->torch-geometric) (1.3.2)\n",
            "Requirement already satisfied: threadpoolctl>=2.0.0 in /home/hamid/python3-virtualenv/lib/python3.11/site-packages (from scikit-learn->torch-geometric) (3.2.0)\n"
          ]
        }
      ],
      "source": [
        "# Add this in a Google Colab cell to install the correct version of Pytorch Geometric.\n",
        "import torch\n",
        "\n",
        "def format_pytorch_version(version):\n",
        "  return version.split('+')[0]\n",
        "\n",
        "TORCH_version = torch.__version__\n",
        "TORCH = format_pytorch_version(TORCH_version)\n",
        "\n",
        "def format_cuda_version(version):\n",
        "  return 'cu' + version.replace('.', '')\n",
        "\n",
        "CUDA_version = torch.version.cuda\n",
        "CUDA = format_cuda_version(CUDA_version)\n",
        "\n",
        "!pip install torch-scatter -f https://data.pyg.org/whl/torch-{TORCH}+{CUDA}.html\n",
        "!pip install torch-sparse -f https://data.pyg.org/whl/torch-{TORCH}+{CUDA}.html\n",
        "!pip install torch-cluster -f https://data.pyg.org/whl/torch-{TORCH}+{CUDA}.html\n",
        "!pip install torch-spline-conv -f https://data.pyg.org/whl/torch-{TORCH}+{CUDA}.html\n",
        "!pip install torch-geometric"
      ]
    },
    {
      "cell_type": "code",
      "execution_count": null,
      "metadata": {
        "colab": {
          "base_uri": "https://localhost:8080/"
        },
        "id": "nog05f7XupHU",
        "outputId": "0d9fe916-321d-4ea8-ed87-95999867cb4d"
      },
      "outputs": [
        {
          "name": "stdout",
          "output_type": "stream",
          "text": [
            "Looking in links: https://data.dgl.ai/wheels/cu118/repo.html\n",
            "Requirement already satisfied: dgl in /home/hamid/python3-virtualenv/lib/python3.11/site-packages (1.1.2+cu118)\n",
            "Requirement already satisfied: numpy>=1.14.0 in /home/hamid/python3-virtualenv/lib/python3.11/site-packages (from dgl) (1.25.2)\n",
            "Requirement already satisfied: scipy>=1.1.0 in /home/hamid/python3-virtualenv/lib/python3.11/site-packages (from dgl) (1.11.2)\n",
            "Requirement already satisfied: networkx>=2.1 in /home/hamid/python3-virtualenv/lib/python3.11/site-packages (from dgl) (3.1)\n",
            "Requirement already satisfied: requests>=2.19.0 in /home/hamid/python3-virtualenv/lib/python3.11/site-packages (from dgl) (2.31.0)\n",
            "Requirement already satisfied: tqdm in /home/hamid/python3-virtualenv/lib/python3.11/site-packages (from dgl) (4.66.1)\n",
            "Requirement already satisfied: psutil>=5.8.0 in /home/hamid/python3-virtualenv/lib/python3.11/site-packages (from dgl) (5.9.5)\n",
            "Requirement already satisfied: charset-normalizer<4,>=2 in /home/hamid/python3-virtualenv/lib/python3.11/site-packages (from requests>=2.19.0->dgl) (3.2.0)\n",
            "Requirement already satisfied: idna<4,>=2.5 in /home/hamid/python3-virtualenv/lib/python3.11/site-packages (from requests>=2.19.0->dgl) (3.4)\n",
            "Requirement already satisfied: urllib3<3,>=1.21.1 in /home/hamid/python3-virtualenv/lib/python3.11/site-packages (from requests>=2.19.0->dgl) (2.0.4)\n",
            "Requirement already satisfied: certifi>=2017.4.17 in /home/hamid/python3-virtualenv/lib/python3.11/site-packages (from requests>=2.19.0->dgl) (2023.7.22)\n",
            "^C\n",
            "\u001b[31mERROR: Operation cancelled by user\u001b[0m\u001b[31m\n",
            "\u001b[0mLooking in links: https://data.dgl.ai/wheels-test/repo.html\n",
            "Requirement already satisfied: dglgo in /home/hamid/python3-virtualenv/lib/python3.11/site-packages (0.0.2)\n",
            "Requirement already satisfied: typer>=0.4.0 in /home/hamid/python3-virtualenv/lib/python3.11/site-packages (from dglgo) (0.9.0)\n",
            "Requirement already satisfied: isort>=5.10.1 in /home/hamid/python3-virtualenv/lib/python3.11/site-packages (from dglgo) (5.12.0)\n",
            "Requirement already satisfied: autopep8>=1.6.0 in /home/hamid/python3-virtualenv/lib/python3.11/site-packages (from dglgo) (2.0.2)\n",
            "Requirement already satisfied: numpydoc>=1.1.0 in /home/hamid/python3-virtualenv/lib/python3.11/site-packages (from dglgo) (1.5.0)\n",
            "Requirement already satisfied: pydantic>=1.9.0 in /home/hamid/python3-virtualenv/lib/python3.11/site-packages (from dglgo) (2.2.1)\n",
            "Requirement already satisfied: ruamel.yaml>=0.17.20 in /home/hamid/python3-virtualenv/lib/python3.11/site-packages (from dglgo) (0.17.32)\n",
            "Requirement already satisfied: PyYAML>=5.1 in /home/hamid/python3-virtualenv/lib/python3.11/site-packages (from dglgo) (6.0.1)\n",
            "Requirement already satisfied: ogb>=1.3.3 in /home/hamid/python3-virtualenv/lib/python3.11/site-packages (from dglgo) (1.3.6)\n",
            "Requirement already satisfied: rdkit-pypi in /home/hamid/python3-virtualenv/lib/python3.11/site-packages (from dglgo) (2022.9.5)\n",
            "Requirement already satisfied: scikit-learn>=0.20.0 in /home/hamid/python3-virtualenv/lib/python3.11/site-packages (from dglgo) (1.3.0)\n",
            "Requirement already satisfied: pycodestyle>=2.10.0 in /home/hamid/python3-virtualenv/lib/python3.11/site-packages (from autopep8>=1.6.0->dglgo) (2.11.0)\n",
            "Requirement already satisfied: sphinx>=4.2 in /home/hamid/python3-virtualenv/lib/python3.11/site-packages (from numpydoc>=1.1.0->dglgo) (7.2.2)\n",
            "Requirement already satisfied: Jinja2>=2.10 in /home/hamid/python3-virtualenv/lib/python3.11/site-packages (from numpydoc>=1.1.0->dglgo) (3.1.2)\n",
            "Requirement already satisfied: torch>=1.6.0 in /home/hamid/python3-virtualenv/lib/python3.11/site-packages (from ogb>=1.3.3->dglgo) (2.0.1)\n",
            "Requirement already satisfied: numpy>=1.16.0 in /home/hamid/python3-virtualenv/lib/python3.11/site-packages (from ogb>=1.3.3->dglgo) (1.25.2)\n",
            "Requirement already satisfied: tqdm>=4.29.0 in /home/hamid/python3-virtualenv/lib/python3.11/site-packages (from ogb>=1.3.3->dglgo) (4.66.1)\n",
            "Requirement already satisfied: pandas>=0.24.0 in /home/hamid/python3-virtualenv/lib/python3.11/site-packages (from ogb>=1.3.3->dglgo) (2.0.3)\n",
            "Requirement already satisfied: six>=1.12.0 in /home/hamid/python3-virtualenv/lib/python3.11/site-packages (from ogb>=1.3.3->dglgo) (1.16.0)\n",
            "Requirement already satisfied: urllib3>=1.24.0 in /home/hamid/python3-virtualenv/lib/python3.11/site-packages (from ogb>=1.3.3->dglgo) (2.0.4)\n",
            "Requirement already satisfied: outdated>=0.2.0 in /home/hamid/python3-virtualenv/lib/python3.11/site-packages (from ogb>=1.3.3->dglgo) (0.2.2)\n",
            "Requirement already satisfied: annotated-types>=0.4.0 in /home/hamid/python3-virtualenv/lib/python3.11/site-packages (from pydantic>=1.9.0->dglgo) (0.5.0)\n",
            "Requirement already satisfied: pydantic-core==2.6.1 in /home/hamid/python3-virtualenv/lib/python3.11/site-packages (from pydantic>=1.9.0->dglgo) (2.6.1)\n",
            "Requirement already satisfied: typing-extensions>=4.6.1 in /home/hamid/python3-virtualenv/lib/python3.11/site-packages (from pydantic>=1.9.0->dglgo) (4.7.1)\n",
            "Requirement already satisfied: ruamel.yaml.clib>=0.2.7 in /home/hamid/python3-virtualenv/lib/python3.11/site-packages (from ruamel.yaml>=0.17.20->dglgo) (0.2.7)\n",
            "Requirement already satisfied: scipy>=1.5.0 in /home/hamid/python3-virtualenv/lib/python3.11/site-packages (from scikit-learn>=0.20.0->dglgo) (1.11.2)\n",
            "Requirement already satisfied: joblib>=1.1.1 in /home/hamid/python3-virtualenv/lib/python3.11/site-packages (from scikit-learn>=0.20.0->dglgo) (1.3.2)\n",
            "Requirement already satisfied: threadpoolctl>=2.0.0 in /home/hamid/python3-virtualenv/lib/python3.11/site-packages (from scikit-learn>=0.20.0->dglgo) (3.2.0)\n",
            "Requirement already satisfied: click<9.0.0,>=7.1.1 in /home/hamid/python3-virtualenv/lib/python3.11/site-packages (from typer>=0.4.0->dglgo) (8.1.7)\n",
            "Requirement already satisfied: Pillow in /home/hamid/python3-virtualenv/lib/python3.11/site-packages (from rdkit-pypi->dglgo) (10.0.0)\n",
            "Requirement already satisfied: MarkupSafe>=2.0 in /home/hamid/python3-virtualenv/lib/python3.11/site-packages (from Jinja2>=2.10->numpydoc>=1.1.0->dglgo) (2.1.3)\n",
            "Requirement already satisfied: setuptools>=44 in /home/hamid/python3-virtualenv/lib/python3.11/site-packages (from outdated>=0.2.0->ogb>=1.3.3->dglgo) (65.5.0)\n",
            "Requirement already satisfied: littleutils in /home/hamid/python3-virtualenv/lib/python3.11/site-packages (from outdated>=0.2.0->ogb>=1.3.3->dglgo) (0.2.2)\n",
            "Requirement already satisfied: requests in /home/hamid/python3-virtualenv/lib/python3.11/site-packages (from outdated>=0.2.0->ogb>=1.3.3->dglgo) (2.31.0)\n",
            "Requirement already satisfied: python-dateutil>=2.8.2 in /home/hamid/python3-virtualenv/lib/python3.11/site-packages (from pandas>=0.24.0->ogb>=1.3.3->dglgo) (2.8.2)\n",
            "Requirement already satisfied: pytz>=2020.1 in /home/hamid/python3-virtualenv/lib/python3.11/site-packages (from pandas>=0.24.0->ogb>=1.3.3->dglgo) (2023.3)\n",
            "Requirement already satisfied: tzdata>=2022.1 in /home/hamid/python3-virtualenv/lib/python3.11/site-packages (from pandas>=0.24.0->ogb>=1.3.3->dglgo) (2023.3)\n",
            "Requirement already satisfied: sphinxcontrib-applehelp in /home/hamid/python3-virtualenv/lib/python3.11/site-packages (from sphinx>=4.2->numpydoc>=1.1.0->dglgo) (1.0.7)\n",
            "Requirement already satisfied: sphinxcontrib-devhelp in /home/hamid/python3-virtualenv/lib/python3.11/site-packages (from sphinx>=4.2->numpydoc>=1.1.0->dglgo) (1.0.5)\n",
            "Requirement already satisfied: sphinxcontrib-jsmath in /home/hamid/python3-virtualenv/lib/python3.11/site-packages (from sphinx>=4.2->numpydoc>=1.1.0->dglgo) (1.0.1)\n",
            "Requirement already satisfied: sphinxcontrib-htmlhelp>=2.0.0 in /home/hamid/python3-virtualenv/lib/python3.11/site-packages (from sphinx>=4.2->numpydoc>=1.1.0->dglgo) (2.0.4)\n",
            "Requirement already satisfied: sphinxcontrib-serializinghtml>=1.1.5 in /home/hamid/python3-virtualenv/lib/python3.11/site-packages (from sphinx>=4.2->numpydoc>=1.1.0->dglgo) (1.1.9)\n",
            "Requirement already satisfied: sphinxcontrib-qthelp in /home/hamid/python3-virtualenv/lib/python3.11/site-packages (from sphinx>=4.2->numpydoc>=1.1.0->dglgo) (1.0.6)\n",
            "Requirement already satisfied: Pygments>=2.14 in /home/hamid/python3-virtualenv/lib/python3.11/site-packages (from sphinx>=4.2->numpydoc>=1.1.0->dglgo) (2.16.1)\n",
            "Requirement already satisfied: docutils<0.21,>=0.18.1 in /home/hamid/python3-virtualenv/lib/python3.11/site-packages (from sphinx>=4.2->numpydoc>=1.1.0->dglgo) (0.20.1)\n",
            "Requirement already satisfied: snowballstemmer>=2.0 in /home/hamid/python3-virtualenv/lib/python3.11/site-packages (from sphinx>=4.2->numpydoc>=1.1.0->dglgo) (2.2.0)\n",
            "Requirement already satisfied: babel>=2.9 in /home/hamid/python3-virtualenv/lib/python3.11/site-packages (from sphinx>=4.2->numpydoc>=1.1.0->dglgo) (2.12.1)\n",
            "Requirement already satisfied: alabaster<0.8,>=0.7 in /home/hamid/python3-virtualenv/lib/python3.11/site-packages (from sphinx>=4.2->numpydoc>=1.1.0->dglgo) (0.7.13)\n",
            "Requirement already satisfied: imagesize>=1.3 in /home/hamid/python3-virtualenv/lib/python3.11/site-packages (from sphinx>=4.2->numpydoc>=1.1.0->dglgo) (1.4.1)\n",
            "Requirement already satisfied: packaging>=21.0 in /home/hamid/python3-virtualenv/lib/python3.11/site-packages (from sphinx>=4.2->numpydoc>=1.1.0->dglgo) (23.1)\n",
            "Requirement already satisfied: filelock in /home/hamid/python3-virtualenv/lib/python3.11/site-packages (from torch>=1.6.0->ogb>=1.3.3->dglgo) (3.12.2)\n",
            "Requirement already satisfied: sympy in /home/hamid/python3-virtualenv/lib/python3.11/site-packages (from torch>=1.6.0->ogb>=1.3.3->dglgo) (1.12)\n",
            "Requirement already satisfied: networkx in /home/hamid/python3-virtualenv/lib/python3.11/site-packages (from torch>=1.6.0->ogb>=1.3.3->dglgo) (3.1)\n",
            "Requirement already satisfied: nvidia-cuda-nvrtc-cu11==11.7.99 in /home/hamid/python3-virtualenv/lib/python3.11/site-packages (from torch>=1.6.0->ogb>=1.3.3->dglgo) (11.7.99)\n",
            "Requirement already satisfied: nvidia-cuda-runtime-cu11==11.7.99 in /home/hamid/python3-virtualenv/lib/python3.11/site-packages (from torch>=1.6.0->ogb>=1.3.3->dglgo) (11.7.99)\n",
            "Requirement already satisfied: nvidia-cuda-cupti-cu11==11.7.101 in /home/hamid/python3-virtualenv/lib/python3.11/site-packages (from torch>=1.6.0->ogb>=1.3.3->dglgo) (11.7.101)\n",
            "Requirement already satisfied: nvidia-cudnn-cu11==8.5.0.96 in /home/hamid/python3-virtualenv/lib/python3.11/site-packages (from torch>=1.6.0->ogb>=1.3.3->dglgo) (8.5.0.96)\n",
            "Requirement already satisfied: nvidia-cublas-cu11==11.10.3.66 in /home/hamid/python3-virtualenv/lib/python3.11/site-packages (from torch>=1.6.0->ogb>=1.3.3->dglgo) (11.10.3.66)\n",
            "Requirement already satisfied: nvidia-cufft-cu11==10.9.0.58 in /home/hamid/python3-virtualenv/lib/python3.11/site-packages (from torch>=1.6.0->ogb>=1.3.3->dglgo) (10.9.0.58)\n",
            "Requirement already satisfied: nvidia-curand-cu11==10.2.10.91 in /home/hamid/python3-virtualenv/lib/python3.11/site-packages (from torch>=1.6.0->ogb>=1.3.3->dglgo) (10.2.10.91)\n",
            "Requirement already satisfied: nvidia-cusolver-cu11==11.4.0.1 in /home/hamid/python3-virtualenv/lib/python3.11/site-packages (from torch>=1.6.0->ogb>=1.3.3->dglgo) (11.4.0.1)\n",
            "Requirement already satisfied: nvidia-cusparse-cu11==11.7.4.91 in /home/hamid/python3-virtualenv/lib/python3.11/site-packages (from torch>=1.6.0->ogb>=1.3.3->dglgo) (11.7.4.91)\n",
            "Requirement already satisfied: nvidia-nccl-cu11==2.14.3 in /home/hamid/python3-virtualenv/lib/python3.11/site-packages (from torch>=1.6.0->ogb>=1.3.3->dglgo) (2.14.3)\n",
            "Requirement already satisfied: nvidia-nvtx-cu11==11.7.91 in /home/hamid/python3-virtualenv/lib/python3.11/site-packages (from torch>=1.6.0->ogb>=1.3.3->dglgo) (11.7.91)\n",
            "Requirement already satisfied: triton==2.0.0 in /home/hamid/python3-virtualenv/lib/python3.11/site-packages (from torch>=1.6.0->ogb>=1.3.3->dglgo) (2.0.0)\n",
            "Requirement already satisfied: wheel in /home/hamid/python3-virtualenv/lib/python3.11/site-packages (from nvidia-cublas-cu11==11.10.3.66->torch>=1.6.0->ogb>=1.3.3->dglgo) (0.41.1)\n",
            "Requirement already satisfied: cmake in /home/hamid/python3-virtualenv/lib/python3.11/site-packages (from triton==2.0.0->torch>=1.6.0->ogb>=1.3.3->dglgo) (3.27.2)\n",
            "Requirement already satisfied: lit in /home/hamid/python3-virtualenv/lib/python3.11/site-packages (from triton==2.0.0->torch>=1.6.0->ogb>=1.3.3->dglgo) (16.0.6)\n",
            "Requirement already satisfied: charset-normalizer<4,>=2 in /home/hamid/python3-virtualenv/lib/python3.11/site-packages (from requests->outdated>=0.2.0->ogb>=1.3.3->dglgo) (3.2.0)\n",
            "Requirement already satisfied: idna<4,>=2.5 in /home/hamid/python3-virtualenv/lib/python3.11/site-packages (from requests->outdated>=0.2.0->ogb>=1.3.3->dglgo) (3.4)\n",
            "Requirement already satisfied: certifi>=2017.4.17 in /home/hamid/python3-virtualenv/lib/python3.11/site-packages (from requests->outdated>=0.2.0->ogb>=1.3.3->dglgo) (2023.7.22)\n",
            "Requirement already satisfied: mpmath>=0.19 in /home/hamid/python3-virtualenv/lib/python3.11/site-packages (from sympy->torch>=1.6.0->ogb>=1.3.3->dglgo) (1.3.0)\n"
          ]
        }
      ],
      "source": [
        "# If you have installed dgl-cuXX package, please uninstall it first.\n",
        "!pip install  dgl -f https://data.dgl.ai/wheels/cu118/repo.html\n",
        "!pip install  dglgo -f https://data.dgl.ai/wheels-test/repo.html"
      ]
    },
    {
      "cell_type": "code",
      "execution_count": null,
      "metadata": {
        "colab": {
          "base_uri": "https://localhost:8080/"
        },
        "id": "Etbha0jTz8n8",
        "outputId": "c98b06a5-cbc5-4f85-e6b5-30d9e0af6306"
      },
      "outputs": [
        {
          "name": "stdout",
          "output_type": "stream",
          "text": [
            "Requirement already satisfied: rdkit-pypi in /usr/local/lib/python3.10/dist-packages (2022.9.5)\n",
            "Requirement already satisfied: numpy in /usr/local/lib/python3.10/dist-packages (from rdkit-pypi) (1.23.5)\n",
            "Requirement already satisfied: Pillow in /usr/local/lib/python3.10/dist-packages (from rdkit-pypi) (9.4.0)\n"
          ]
        }
      ],
      "source": [
        "!pip install rdkit-pypi"
      ]
    },
    {
      "cell_type": "code",
      "execution_count": null,
      "metadata": {
        "colab": {
          "base_uri": "https://localhost:8080/"
        },
        "id": "TOCzDSjEtxTz",
        "outputId": "a9e47b66-fe23-4541-ea27-2a901bd0bb3c"
      },
      "outputs": [
        {
          "name": "stdout",
          "output_type": "stream",
          "text": [
            "Requirement already satisfied: dgllife==0.2.8 in /usr/local/lib/python3.10/dist-packages (0.2.8)\n",
            "Requirement already satisfied: scikit-learn>=0.22.2 in /usr/local/lib/python3.10/dist-packages (from dgllife==0.2.8) (1.2.2)\n",
            "Requirement already satisfied: pandas in /usr/local/lib/python3.10/dist-packages (from dgllife==0.2.8) (1.5.3)\n",
            "Requirement already satisfied: requests>=2.22.0 in /usr/local/lib/python3.10/dist-packages (from dgllife==0.2.8) (2.31.0)\n",
            "Requirement already satisfied: tqdm in /usr/local/lib/python3.10/dist-packages (from dgllife==0.2.8) (4.66.1)\n",
            "Requirement already satisfied: numpy>=1.14.0 in /usr/local/lib/python3.10/dist-packages (from dgllife==0.2.8) (1.23.5)\n",
            "Requirement already satisfied: scipy>=1.1.0 in /usr/local/lib/python3.10/dist-packages (from dgllife==0.2.8) (1.10.1)\n",
            "Requirement already satisfied: networkx>=2.1 in /usr/local/lib/python3.10/dist-packages (from dgllife==0.2.8) (3.1)\n",
            "Requirement already satisfied: hyperopt in /usr/local/lib/python3.10/dist-packages (from dgllife==0.2.8) (0.2.7)\n",
            "Requirement already satisfied: joblib in /usr/local/lib/python3.10/dist-packages (from dgllife==0.2.8) (1.3.2)\n",
            "Requirement already satisfied: charset-normalizer<4,>=2 in /usr/local/lib/python3.10/dist-packages (from requests>=2.22.0->dgllife==0.2.8) (3.2.0)\n",
            "Requirement already satisfied: idna<4,>=2.5 in /usr/local/lib/python3.10/dist-packages (from requests>=2.22.0->dgllife==0.2.8) (3.4)\n",
            "Requirement already satisfied: urllib3<3,>=1.21.1 in /usr/local/lib/python3.10/dist-packages (from requests>=2.22.0->dgllife==0.2.8) (2.0.4)\n",
            "Requirement already satisfied: certifi>=2017.4.17 in /usr/local/lib/python3.10/dist-packages (from requests>=2.22.0->dgllife==0.2.8) (2023.7.22)\n",
            "Requirement already satisfied: threadpoolctl>=2.0.0 in /usr/local/lib/python3.10/dist-packages (from scikit-learn>=0.22.2->dgllife==0.2.8) (3.2.0)\n",
            "Requirement already satisfied: six in /usr/local/lib/python3.10/dist-packages (from hyperopt->dgllife==0.2.8) (1.16.0)\n",
            "Requirement already satisfied: future in /usr/local/lib/python3.10/dist-packages (from hyperopt->dgllife==0.2.8) (0.18.3)\n",
            "Requirement already satisfied: cloudpickle in /usr/local/lib/python3.10/dist-packages (from hyperopt->dgllife==0.2.8) (2.2.1)\n",
            "Requirement already satisfied: py4j in /usr/local/lib/python3.10/dist-packages (from hyperopt->dgllife==0.2.8) (0.10.9.7)\n",
            "Requirement already satisfied: python-dateutil>=2.8.1 in /usr/local/lib/python3.10/dist-packages (from pandas->dgllife==0.2.8) (2.8.2)\n",
            "Requirement already satisfied: pytz>=2020.1 in /usr/local/lib/python3.10/dist-packages (from pandas->dgllife==0.2.8) (2023.3)\n",
            "Requirement already satisfied: scikit-learn in /usr/local/lib/python3.10/dist-packages (1.2.2)\n",
            "Requirement already satisfied: numpy>=1.17.3 in /usr/local/lib/python3.10/dist-packages (from scikit-learn) (1.23.5)\n",
            "Requirement already satisfied: scipy>=1.3.2 in /usr/local/lib/python3.10/dist-packages (from scikit-learn) (1.10.1)\n",
            "Requirement already satisfied: joblib>=1.1.1 in /usr/local/lib/python3.10/dist-packages (from scikit-learn) (1.3.2)\n",
            "Requirement already satisfied: threadpoolctl>=2.0.0 in /usr/local/lib/python3.10/dist-packages (from scikit-learn) (3.2.0)\n",
            "Requirement already satisfied: yacs in /usr/local/lib/python3.10/dist-packages (0.1.8)\n",
            "Requirement already satisfied: PyYAML in /usr/local/lib/python3.10/dist-packages (from yacs) (6.0.1)\n",
            "Requirement already satisfied: prettytable in /usr/local/lib/python3.10/dist-packages (3.8.0)\n",
            "Requirement already satisfied: wcwidth in /usr/local/lib/python3.10/dist-packages (from prettytable) (0.2.6)\n"
          ]
        }
      ],
      "source": [
        "!pip install dgllife==0.2.8\n",
        "!pip install scikit-learn\n",
        "!pip install yacs\n",
        "!pip install prettytable\n",
        "\n"
      ]
    },
    {
      "cell_type": "code",
      "execution_count": null,
      "metadata": {
        "id": "fIJ2vLKhY-Ul"
      },
      "outputs": [],
      "source": [
        "from models import DrugBAN\n",
        "from time import time\n",
        "from utils import set_seed, graph_collate_func, mkdir,graph_collate_func2\n",
        "from configs import get_cfg_defaults\n",
        "from dataloader import DTIDataset, MultiDataLoader, DTIDataset2\n",
        "from torch.utils.data import DataLoader\n",
        "from trainer import Trainer\n",
        "from domain_adaptator import Discriminator\n",
        "import torch\n",
        "import argparse\n",
        "import warnings, os\n",
        "import torch\n",
        "import torch.nn as nn\n",
        "import copy\n",
        "import os\n",
        "import numpy as np\n",
        "from tqdm import tqdm\n",
        "from rdkit.Chem import AllChem\n",
        "import torch.nn as nn\n",
        "import torch.nn.functional as F\n",
        "import torch\n",
        "import math\n",
        "from dgllife.model.gnn import GCN\n",
        "import pandas as pd\n",
        "from torch.nn.utils.weight_norm import weight_norm"
      ]
    },
    {
      "cell_type": "code",
      "execution_count": null,
      "metadata": {
        "colab": {
          "base_uri": "https://localhost:8080/"
        },
        "id": "hy5zyx55qUtY",
        "outputId": "13f36921-6efb-40ad-d7f5-51c6ddccd309"
      },
      "outputs": [
        {
          "name": "stdout",
          "output_type": "stream",
          "text": [
            "Config yaml: DrugBAN_DA.yaml\n",
            "Running on: cuda\n",
            "Hyperparameters:\n"
          ]
        },
        {
          "data": {
            "text/plain": [
              "{'DRUG': CfgNode({'NODE_IN_FEATS': 75, 'PADDING': True, 'HIDDEN_LAYERS': [128, 128, 128], 'NODE_IN_EMBEDDING': 128, 'MAX_NODES': 290}),\n",
              " 'PROTEIN': CfgNode({'NUM_FILTERS': [128, 128, 128], 'KERNEL_SIZE': [3, 6, 9], 'EMBEDDING_DIM': 128, 'PADDING': True}),\n",
              " 'BCN': CfgNode({'HEADS': 2}),\n",
              " 'DECODER': CfgNode({'NAME': 'MLP', 'IN_DIM': 256, 'HIDDEN_DIM': 512, 'OUT_DIM': 128, 'BINARY': 2}),\n",
              " 'SOLVER': CfgNode({'MAX_EPOCH': 100, 'BATCH_SIZE': 8, 'NUM_WORKERS': 0, 'LR': 0.0001, 'DA_LR': 5e-05, 'SEED': 666}),\n",
              " 'RESULT': CfgNode({'OUTPUT_DIR': './result', 'SAVE_MODEL': True}),\n",
              " 'DA': CfgNode({'TASK': True, 'METHOD': 'CDAN', 'USE': True, 'INIT_EPOCH': 8, 'LAMB_DA': 1, 'RANDOM_LAYER': True, 'ORIGINAL_RANDOM': True, 'RANDOM_DIM': 256, 'USE_ENTROPY': False}),\n",
              " 'COMET': CfgNode({'WORKSPACE': 'pz-white', 'PROJECT_NAME': 'DrugBAN_CDAN', 'USE': False, 'TAG': 'DA'})}"
            ]
          },
          "execution_count": 2,
          "metadata": {},
          "output_type": "execute_result"
        }
      ],
      "source": [
        "device = torch.device('cuda' if torch.cuda.is_available() else 'cpu')\n",
        "cfg_path = \"DrugBAN_DA.yaml\"\n",
        "comet_support = False\n",
        "cfg = get_cfg_defaults()\n",
        "cfg.merge_from_file(cfg_path)\n",
        "cfg.freeze()\n",
        "torch.cuda.empty_cache()\n",
        "warnings.filterwarnings(\"ignore\")\n",
        "set_seed(cfg.SOLVER.SEED)\n",
        "mkdir(cfg.RESULT.OUTPUT_DIR)\n",
        "experiment = None\n",
        "print(f\"Config yaml: {cfg_path}\")\n",
        "print(f\"Running on: {device}\")\n",
        "print(f\"Hyperparameters:\")\n",
        "dict(cfg)"
      ]
    },
    {
      "cell_type": "code",
      "execution_count": null,
      "metadata": {
        "id": "IqM7nt14BA2v"
      },
      "outputs": [],
      "source": [
        "df_train = pd.read_csv(\"source_train.csv\")\n",
        "df_val = pd.read_csv(\"target_train.csv\")\n",
        "df_test = pd.read_csv(\"target_test.csv\")"
      ]
    },
    {
      "cell_type": "code",
      "execution_count": null,
      "metadata": {
        "colab": {
          "base_uri": "https://localhost:8080/"
        },
        "id": "n2zU0aFtDDIK",
        "outputId": "4d8939bd-ad94-4e69-8da0-9aa4a22c1a92"
      },
      "outputs": [
        {
          "data": {
            "text/plain": [
              "((9766, 5), (88, 3), (88, 3))"
            ]
          },
          "execution_count": 4,
          "metadata": {},
          "output_type": "execute_result"
        }
      ],
      "source": [
        "df_train.shape, df_val.shape, df_test.shape"
      ]
    },
    {
      "cell_type": "code",
      "execution_count": null,
      "metadata": {
        "id": "VYT0Nrsxt43R"
      },
      "outputs": [],
      "source": [
        "from rdkit.Chem import AllChem\n",
        "import sys\n",
        "import numpy as np\n",
        "sys.path.append('/usr/local/lib/python3.7/site-packages/')\n",
        "\n",
        "try:\n",
        "  from rdkit import Chem\n",
        "  from rdkit.Chem.Draw import IPythonConsole\n",
        "except ImportError:\n",
        "  print('Stopping RUNTIME. Colaboratory will restart automatically. Please run again.')\n",
        "  exit()\n",
        "df_list = [df_train,df_val, df_test]\n",
        "for dfs in df_list:\n",
        "\n",
        "    x_batch11 = []\n",
        "    # y = torch.Tensor([y])\n",
        "    smiles2 = dfs.iloc[dfs.index]['SMILES']\n",
        "    batch_smiles2 = list(smiles2)\n",
        "    for item in batch_smiles2:\n",
        "\n",
        "        m1 = Chem.MolFromSmiles(str(item))\n",
        "        fp1 = AllChem.GetMorganFingerprintAsBitVect(m1, radius=2, nBits=1024)\n",
        "        x = np.array(fp1, dtype=np.float64)\n",
        "        x_batch11.append(x)\n",
        "    dfs['fcfp'] = x_batch11"
      ]
    },
    {
      "cell_type": "code",
      "execution_count": null,
      "metadata": {
        "id": "Nf4Mwn1Vlycs"
      },
      "outputs": [],
      "source": [
        "#train_emb = pd.read_parquet(\"teacher_biosnap_full_graph_juststructure.parquet\")"
      ]
    },
    {
      "cell_type": "code",
      "execution_count": null,
      "metadata": {
        "id": "3UQ6deXmBA2w"
      },
      "outputs": [],
      "source": [
        "#train_emb = pd.read_csv(\"teacher_bindingDB_ourclusteringV6_juststructure_emb_256_source_train.csv\")\n",
        "train_emb = pd.read_csv(\"teacher_biosnap_cluster_juststructure_emb_256_source_train.csv\")\n"
      ]
    },
    {
      "cell_type": "code",
      "execution_count": null,
      "metadata": {
        "id": "EeboTMvf2fCI"
      },
      "outputs": [],
      "source": [
        "train_emb['Array'] = train_emb.apply(lambda row: np.array(row), axis=1)\n",
        "\n",
        "# Drop all columns except the 'Array' column\n",
        "train_emb.drop(train_emb.columns.difference(['Array']), axis=1, inplace=True)\n",
        "\n",
        "df_train['teacher_emb'] = train_emb['Array']"
      ]
    },
    {
      "cell_type": "code",
      "execution_count": null,
      "metadata": {
        "id": "N3jilfWtr2VR"
      },
      "outputs": [],
      "source": [
        "#dataFolder = data\n",
        "\n",
        "\n",
        "train_dataset = DTIDataset2(df_train.index.values, df_train)\n",
        "val_dataset = DTIDataset(df_val.index.values, df_val)\n",
        "test_dataset = DTIDataset(df_test.index.values, df_test)\n",
        "\n",
        "params1 = {'batch_size': cfg.SOLVER.BATCH_SIZE, 'shuffle': True, 'num_workers': cfg.SOLVER.NUM_WORKERS, 'drop_last': True, 'collate_fn': graph_collate_func}\n",
        "params2 = {'batch_size': cfg.SOLVER.BATCH_SIZE, 'shuffle': True, 'num_workers': cfg.SOLVER.NUM_WORKERS, 'drop_last': True, 'collate_fn': graph_collate_func2}\n",
        "source_generator = DataLoader(train_dataset, **params2)\n",
        "target_generator = DataLoader(val_dataset, **params1)\n",
        "n_batches = max(len(source_generator), len(target_generator))\n",
        "multi_generator = MultiDataLoader(dataloaders=[source_generator, target_generator], n_batches=n_batches)\n",
        "training_generator = DataLoader(train_dataset, **params2)\n",
        "params1['shuffle'] = False\n",
        "params1['drop_last'] = False\n",
        "val_generator = DataLoader(val_dataset,**params1)\n",
        "test_generator = DataLoader(test_dataset,**params1)"
      ]
    },
    {
      "cell_type": "code",
      "execution_count": null,
      "metadata": {
        "id": "XXj0Wzw5s-iu"
      },
      "outputs": [],
      "source": [
        "model = DrugBAN(**cfg).to(device)\n",
        "opt = torch.optim.Adam(model.parameters(), lr=cfg.SOLVER.LR)\n",
        "if torch.cuda.is_available():\n",
        "  torch.backends.cudnn.benchmark = True"
      ]
    },
    {
      "cell_type": "code",
      "execution_count": null,
      "metadata": {
        "id": "fDRdvJqMBA2x"
      },
      "outputs": [],
      "source": [
        "if cfg.DA.USE:\n",
        "        if cfg[\"DA\"][\"RANDOM_LAYER\"]:\n",
        "            domain_dmm = Discriminator(input_size=cfg[\"DA\"][\"RANDOM_DIM\"], n_class=cfg[\"DECODER\"][\"BINARY\"]).to(device)\n",
        "        else:\n",
        "            domain_dmm = Discriminator(input_size=cfg[\"DECODER\"][\"IN_DIM\"] * cfg[\"DECODER\"][\"BINARY\"],\n",
        "                                       n_class=cfg[\"DECODER\"][\"BINARY\"]).to(device)\n",
        "        # params = list(model.parameters()) + list(domain_dmm.parameters())\n",
        "        opt = torch.optim.Adam(model.parameters(), lr=cfg.SOLVER.LR)\n",
        "        opt_da = torch.optim.Adam(domain_dmm.parameters(), lr=cfg.SOLVER.DA_LR)\n",
        "else:\n",
        "        opt = torch.optim.Adam(model.parameters(), lr=cfg.SOLVER.LR)\n",
        "torch.backends.cudnn.benchmark = True"
      ]
    },
    {
      "cell_type": "code",
      "execution_count": null,
      "metadata": {
        "id": "3HgAbVqkBA20",
        "outputId": "0ac9288b-1995-4ce5-a503-1467edc03cf2"
      },
      "outputs": [
        {
          "name": "stderr",
          "output_type": "stream",
          "text": [
            "100%|█████████████████████████████████████████████████████████████████████████████████████████████████████████████████████| 305/305 [01:05<00:00,  4.64it/s]\n"
          ]
        },
        {
          "name": "stdout",
          "output_type": "stream",
          "text": [
            "Training at Epoch 1 with model training loss 1.9994855681403738\n",
            "Validation at Epoch 1 with validation loss 0.7267333805038217  AUROC 0.6143424972438967 AUPRC 0.5805846379724615\n"
          ]
        },
        {
          "name": "stderr",
          "output_type": "stream",
          "text": [
            "100%|█████████████████████████████████████████████████████████████████████████████████████████████████████████████████████| 305/305 [01:04<00:00,  4.75it/s]\n"
          ]
        },
        {
          "name": "stdout",
          "output_type": "stream",
          "text": [
            "Training at Epoch 2 with model training loss 1.8741347269933732\n",
            "Validation at Epoch 2 with validation loss 0.8288647229211372  AUROC 0.5870149007392467 AUPRC 0.5810576235837478\n"
          ]
        },
        {
          "name": "stderr",
          "output_type": "stream",
          "text": [
            "100%|█████████████████████████████████████████████████████████████████████████████████████████████████████████████████████| 305/305 [01:04<00:00,  4.74it/s]\n"
          ]
        },
        {
          "name": "stdout",
          "output_type": "stream",
          "text": [
            "Training at Epoch 3 with model training loss 1.8199904793598614\n",
            "Validation at Epoch 3 with validation loss 0.8246859029719704  AUROC 0.5472496566079154 AUPRC 0.5397752440704039\n"
          ]
        },
        {
          "name": "stderr",
          "output_type": "stream",
          "text": [
            "100%|█████████████████████████████████████████████████████████████████████████████████████████████████████████████████████| 305/305 [01:04<00:00,  4.75it/s]\n"
          ]
        },
        {
          "name": "stdout",
          "output_type": "stream",
          "text": [
            "Training at Epoch 4 with model training loss 1.780930582812575\n",
            "Validation at Epoch 4 with validation loss 0.9810587460534614  AUROC 0.5232699619540719 AUPRC 0.5165944571977616\n"
          ]
        },
        {
          "name": "stderr",
          "output_type": "stream",
          "text": [
            "100%|█████████████████████████████████████████████████████████████████████████████████████████████████████████████████████| 305/305 [01:04<00:00,  4.74it/s]\n"
          ]
        },
        {
          "name": "stdout",
          "output_type": "stream",
          "text": [
            "Training at Epoch 5 with model training loss 1.7578449792549258\n",
            "Validation at Epoch 5 with validation loss 1.101072197943403  AUROC 0.5601350285458443 AUPRC 0.5504215676075487\n"
          ]
        },
        {
          "name": "stderr",
          "output_type": "stream",
          "text": [
            "100%|█████████████████████████████████████████████████████████████████████████████████████████████████████████████████████| 305/305 [01:04<00:00,  4.75it/s]\n"
          ]
        },
        {
          "name": "stdout",
          "output_type": "stream",
          "text": [
            "Training at Epoch 6 with model training loss 1.7385355925950847\n",
            "Validation at Epoch 6 with validation loss 1.0509956301304333  AUROC 0.5237286286110121 AUPRC 0.522152313506096\n"
          ]
        },
        {
          "name": "stderr",
          "output_type": "stream",
          "text": [
            "100%|█████████████████████████████████████████████████████████████████████████████████████████████████████████████████████| 305/305 [01:04<00:00,  4.75it/s]\n"
          ]
        },
        {
          "name": "stdout",
          "output_type": "stream",
          "text": [
            "Training at Epoch 7 with model training loss 1.7093423835566786\n",
            "Validation at Epoch 7 with validation loss 1.0748949495323918  AUROC 0.5974438680462533 AUPRC 0.5782621874900138\n"
          ]
        },
        {
          "name": "stderr",
          "output_type": "stream",
          "text": [
            "100%|█████████████████████████████████████████████████████████████████████████████████████████████████████████████████████| 305/305 [01:04<00:00,  4.75it/s]\n"
          ]
        },
        {
          "name": "stdout",
          "output_type": "stream",
          "text": [
            "Training at Epoch 8 with model training loss 1.681146490769308\n",
            "Validation at Epoch 8 with validation loss 1.0533119926327152  AUROC 0.5705530535071586 AUPRC 0.5612570947418981\n"
          ]
        },
        {
          "name": "stderr",
          "output_type": "stream",
          "text": [
            "100%|█████████████████████████████████████████████████████████████████████████████████████████████████████████████████████| 305/305 [01:04<00:00,  4.74it/s]\n"
          ]
        },
        {
          "name": "stdout",
          "output_type": "stream",
          "text": [
            "Training at Epoch 9 with model training loss 1.6751545913883896\n",
            "Validation at Epoch 9 with validation loss 1.1640156031700604  AUROC 0.5678262817514197 AUPRC 0.5480621950522655\n"
          ]
        },
        {
          "name": "stderr",
          "output_type": "stream",
          "text": [
            "100%|█████████████████████████████████████████████████████████████████████████████████████████████████████████████████████| 305/305 [01:18<00:00,  3.86it/s]\n"
          ]
        },
        {
          "name": "stdout",
          "output_type": "stream",
          "text": [
            "Training at Epoch 10 model training loss 1.6587900349351226, da loss 1.4032038258724526, total training loss 3.0619938592441747, DA lambda 1\n",
            "Validation at Epoch 10 with validation loss 0.9175220942288115  AUROC 0.6142117970036818 AUPRC 0.6096378056651377\n"
          ]
        },
        {
          "name": "stderr",
          "output_type": "stream",
          "text": [
            "100%|█████████████████████████████████████████████████████████████████████████████████████████████████████████████████████| 305/305 [01:19<00:00,  3.85it/s]\n"
          ]
        },
        {
          "name": "stdout",
          "output_type": "stream",
          "text": [
            "Training at Epoch 11 model training loss 1.6567291478641697, da loss 1.3893683378813697, total training loss 3.046097492780842, DA lambda 1\n",
            "Validation at Epoch 11 with validation loss 0.8717558245386994  AUROC 0.6124449121284048 AUPRC 0.6101472097416134\n"
          ]
        },
        {
          "name": "stderr",
          "output_type": "stream",
          "text": [
            "100%|█████████████████████████████████████████████████████████████████████████████████████████████████████████████████████| 305/305 [01:19<00:00,  3.85it/s]\n"
          ]
        },
        {
          "name": "stdout",
          "output_type": "stream",
          "text": [
            "Training at Epoch 12 model training loss 1.6387344673031665, da loss 1.388984643435869, total training loss 3.027719111520736, DA lambda 1\n",
            "Validation at Epoch 12 with validation loss 0.9680593515697279  AUROC 0.6323795863246211 AUPRC 0.6422431679222175\n"
          ]
        },
        {
          "name": "stderr",
          "output_type": "stream",
          "text": [
            "100%|█████████████████████████████████████████████████████████████████████████████████████████████████████████████████████| 305/305 [01:19<00:00,  3.84it/s]\n"
          ]
        },
        {
          "name": "stdout",
          "output_type": "stream",
          "text": [
            "Training at Epoch 13 model training loss 1.6283053675635917, da loss 1.3845177329954554, total training loss 3.0128231040766984, DA lambda 1\n",
            "Validation at Epoch 13 with validation loss 0.7758419205222213  AUROC 0.6588419776344533 AUPRC 0.6897847458427024\n"
          ]
        },
        {
          "name": "stderr",
          "output_type": "stream",
          "text": [
            "100%|█████████████████████████████████████████████████████████████████████████████████████████████████████████████████████| 305/305 [01:20<00:00,  3.81it/s]\n"
          ]
        },
        {
          "name": "stdout",
          "output_type": "stream",
          "text": [
            "Training at Epoch 14 model training loss 1.614509371069611, da loss 1.3850589392615147, total training loss 2.999568320102379, DA lambda 1\n",
            "Validation at Epoch 14 with validation loss 0.8498434466228151  AUROC 0.653991174998199 AUPRC 0.6893023788915864\n"
          ]
        },
        {
          "name": "stderr",
          "output_type": "stream",
          "text": [
            "100%|█████████████████████████████████████████████████████████████████████████████████████████████████████████████████████| 305/305 [01:19<00:00,  3.82it/s]\n"
          ]
        },
        {
          "name": "stdout",
          "output_type": "stream",
          "text": [
            "Training at Epoch 15 model training loss 1.60042691465284, da loss 1.3833206508980422, total training loss 2.9837475651600323, DA lambda 1\n",
            "Validation at Epoch 15 with validation loss 0.8134282283615648  AUROC 0.6717123038470552 AUPRC 0.7124514278752049\n"
          ]
        },
        {
          "name": "stderr",
          "output_type": "stream",
          "text": [
            "100%|█████████████████████████████████████████████████████████████████████████████████████████████████████████████████████| 305/305 [01:19<00:00,  3.85it/s]\n"
          ]
        },
        {
          "name": "stdout",
          "output_type": "stream",
          "text": [
            "Training at Epoch 16 model training loss 1.5923456395258668, da loss 1.3838165611517235, total training loss 2.976162206149492, DA lambda 1\n",
            "Validation at Epoch 16 with validation loss 0.9084266034657495  AUROC 0.6760798195485613 AUPRC 0.7071591432218406\n"
          ]
        },
        {
          "name": "stderr",
          "output_type": "stream",
          "text": [
            "100%|█████████████████████████████████████████████████████████████████████████████████████████████████████████████████████| 305/305 [01:19<00:00,  3.85it/s]\n"
          ]
        },
        {
          "name": "stdout",
          "output_type": "stream",
          "text": [
            "Training at Epoch 17 model training loss 1.579627585801922, da loss 1.3858156184681127, total training loss 2.965443203097484, DA lambda 1\n",
            "Validation at Epoch 17 with validation loss 0.971943057419961  AUROC 0.6887908738405293 AUPRC 0.7223253523913511\n"
          ]
        },
        {
          "name": "stderr",
          "output_type": "stream",
          "text": [
            "100%|█████████████████████████████████████████████████████████████████████████████████████████████████████████████████████| 305/305 [01:19<00:00,  3.85it/s]\n"
          ]
        },
        {
          "name": "stdout",
          "output_type": "stream",
          "text": [
            "Training at Epoch 18 model training loss 1.5584796112091814, da loss 1.3849489145591611, total training loss 2.943428524986642, DA lambda 1\n",
            "Validation at Epoch 18 with validation loss 0.9766165922608292  AUROC 0.6724588149865152 AUPRC 0.7132200366935336\n"
          ]
        },
        {
          "name": "stderr",
          "output_type": "stream",
          "text": [
            "100%|█████████████████████████████████████████████████████████████████████████████████████████████████████████████████████| 305/305 [01:19<00:00,  3.83it/s]\n"
          ]
        },
        {
          "name": "stdout",
          "output_type": "stream",
          "text": [
            "Training at Epoch 19 model training loss 1.5601004151047253, da loss 1.383388265234525, total training loss 2.9434886721313975, DA lambda 1\n",
            "Validation at Epoch 19 with validation loss 0.9507818357986316  AUROC 0.685078835041403 AUPRC 0.72150749095928\n"
          ]
        },
        {
          "name": "stderr",
          "output_type": "stream",
          "text": [
            "100%|█████████████████████████████████████████████████████████████████████████████████████████████████████████████████████| 305/305 [01:19<00:00,  3.85it/s]\n"
          ]
        },
        {
          "name": "stdout",
          "output_type": "stream",
          "text": [
            "Training at Epoch 20 model training loss 1.5465453335496246, da loss 1.3826103820175422, total training loss 2.9291557085318645, DA lambda 1\n",
            "Validation at Epoch 20 with validation loss 1.112997341574284  AUROC 0.6805619259257908 AUPRC 0.7108953434358123\n"
          ]
        },
        {
          "name": "stderr",
          "output_type": "stream",
          "text": [
            "100%|█████████████████████████████████████████████████████████████████████████████████████████████████████████████████████| 305/305 [01:19<00:00,  3.84it/s]\n"
          ]
        },
        {
          "name": "stdout",
          "output_type": "stream",
          "text": [
            "Training at Epoch 21 model training loss 1.543644630713541, da loss 1.3831108722530427, total training loss 2.9267555088293356, DA lambda 1\n",
            "Validation at Epoch 21 with validation loss 1.0465319080833804  AUROC 0.6844580089003824 AUPRC 0.7215766850132553\n"
          ]
        },
        {
          "name": "stderr",
          "output_type": "stream",
          "text": [
            "100%|█████████████████████████████████████████████████████████████████████████████████████████████████████████████████████| 305/305 [01:19<00:00,  3.85it/s]\n"
          ]
        },
        {
          "name": "stdout",
          "output_type": "stream",
          "text": [
            "Training at Epoch 22 model training loss 1.5310090401133554, da loss 1.3817531378542791, total training loss 2.912762183048686, DA lambda 1\n",
            "Validation at Epoch 22 with validation loss 1.109362472306218  AUROC 0.6652940101903634 AUPRC 0.704023325724157\n"
          ]
        },
        {
          "name": "stderr",
          "output_type": "stream",
          "text": [
            "100%|█████████████████████████████████████████████████████████████████████████████████████████████████████████████████████| 305/305 [01:19<00:00,  3.83it/s]\n"
          ]
        },
        {
          "name": "stdout",
          "output_type": "stream",
          "text": [
            "Training at Epoch 23 model training loss 1.5297706815062977, da loss 1.3826990756832185, total training loss 2.9124697528901646, DA lambda 1\n",
            "Validation at Epoch 23 with validation loss 1.014827587102589  AUROC 0.6799430754860758 AUPRC 0.7195285959953239\n"
          ]
        },
        {
          "name": "stderr",
          "output_type": "stream",
          "text": [
            "100%|█████████████████████████████████████████████████████████████████████████████████████████████████████████████████████| 305/305 [01:19<00:00,  3.85it/s]\n"
          ]
        },
        {
          "name": "stdout",
          "output_type": "stream",
          "text": [
            "Training at Epoch 24 model training loss 1.5131210444403476, da loss 1.3792196254261204, total training loss 2.89234067572922, DA lambda 1\n",
            "Validation at Epoch 24 with validation loss 1.0720108252084046  AUROC 0.6867072688482665 AUPRC 0.7314536825122426\n"
          ]
        },
        {
          "name": "stderr",
          "output_type": "stream",
          "text": [
            "100%|█████████████████████████████████████████████████████████████████████████████████████████████████████████████████████| 305/305 [01:19<00:00,  3.85it/s]\n"
          ]
        },
        {
          "name": "stdout",
          "output_type": "stream",
          "text": [
            "Training at Epoch 25 model training loss 1.5102953875651126, da loss 1.3805016842044768, total training loss 2.890797070987889, DA lambda 1\n",
            "Validation at Epoch 25 with validation loss 1.1851194181986022  AUROC 0.6766346876613806 AUPRC 0.7118805251553298\n"
          ]
        },
        {
          "name": "stderr",
          "output_type": "stream",
          "text": [
            "100%|█████████████████████████████████████████████████████████████████████████████████████████████████████████████████████| 305/305 [01:19<00:00,  3.85it/s]\n"
          ]
        },
        {
          "name": "stdout",
          "output_type": "stream",
          "text": [
            "Training at Epoch 26 model training loss 1.507211675800261, da loss 1.379146008022496, total training loss 2.886357686558708, DA lambda 1\n",
            "Validation at Epoch 26 with validation loss 1.2539147935938417  AUROC 0.6702125945791011 AUPRC 0.7117045341488506\n"
          ]
        },
        {
          "name": "stderr",
          "output_type": "stream",
          "text": [
            "100%|█████████████████████████████████████████████████████████████████████████████████████████████████████████████████████| 305/305 [01:19<00:00,  3.84it/s]\n"
          ]
        },
        {
          "name": "stdout",
          "output_type": "stream",
          "text": [
            "Training at Epoch 27 model training loss 1.5023600101470946, da loss 1.3803264426403359, total training loss 2.8826864516148802, DA lambda 1\n",
            "Validation at Epoch 27 with validation loss 1.1131752075856192  AUROC 0.6721355598575185 AUPRC 0.720880438228516\n"
          ]
        },
        {
          "name": "stderr",
          "output_type": "stream",
          "text": [
            "100%|█████████████████████████████████████████████████████████████████████████████████████████████████████████████████████| 305/305 [01:19<00:00,  3.85it/s]\n"
          ]
        },
        {
          "name": "stdout",
          "output_type": "stream",
          "text": [
            "Training at Epoch 28 model training loss 1.4980978707798192, da loss 1.3791588111001938, total training loss 2.8772566896970155, DA lambda 1\n",
            "Validation at Epoch 28 with validation loss 1.1673307897228944  AUROC 0.6893504532410772 AUPRC 0.7304619376201849\n"
          ]
        },
        {
          "name": "stderr",
          "output_type": "stream",
          "text": [
            "100%|█████████████████████████████████████████████████████████████████████████████████████████████████████████████████████| 305/305 [01:19<00:00,  3.83it/s]\n"
          ]
        },
        {
          "name": "stdout",
          "output_type": "stream",
          "text": [
            "Training at Epoch 29 model training loss 1.5018016185916838, da loss 1.3802606688171137, total training loss 2.882062288972198, DA lambda 1\n",
            "Validation at Epoch 29 with validation loss 1.3978814017354397  AUROC 0.6744484981782514 AUPRC 0.7097915494760889\n"
          ]
        },
        {
          "name": "stderr",
          "output_type": "stream",
          "text": [
            "100%|█████████████████████████████████████████████████████████████████████████████████████████████████████████████████████| 305/305 [01:19<00:00,  3.84it/s]\n"
          ]
        },
        {
          "name": "stdout",
          "output_type": "stream",
          "text": [
            "Training at Epoch 30 model training loss 1.4943318390455402, da loss 1.3798258398399978, total training loss 2.874157681230639, DA lambda 1\n",
            "Validation at Epoch 30 with validation loss 1.237469713154592  AUROC 0.6824405139133445 AUPRC 0.7290884318265131\n"
          ]
        },
        {
          "name": "stderr",
          "output_type": "stream",
          "text": [
            "100%|█████████████████████████████████████████████████████████████████████████████████████████████████████████████████████| 305/305 [01:19<00:00,  3.84it/s]\n"
          ]
        },
        {
          "name": "stdout",
          "output_type": "stream",
          "text": [
            "Training at Epoch 31 model training loss 1.4896699643525921, da loss 1.3801206424588062, total training loss 2.8697906111107496, DA lambda 1\n",
            "Validation at Epoch 31 with validation loss 1.1700615404467833  AUROC 0.6748491096122124 AUPRC 0.7183114752573898\n"
          ]
        },
        {
          "name": "stderr",
          "output_type": "stream",
          "text": [
            "100%|█████████████████████████████████████████████████████████████████████████████████████████████████████████████████████| 305/305 [01:19<00:00,  3.85it/s]\n"
          ]
        },
        {
          "name": "stdout",
          "output_type": "stream",
          "text": [
            "Training at Epoch 32 model training loss 1.4767619856068346, da loss 1.37915090263867, total training loss 2.8559128862912537, DA lambda 1\n",
            "Validation at Epoch 32 with validation loss 1.3008986753329896  AUROC 0.6766237453156883 AUPRC 0.7032821558873242\n"
          ]
        },
        {
          "name": "stderr",
          "output_type": "stream",
          "text": [
            "100%|█████████████████████████████████████████████████████████████████████████████████████████████████████████████████████| 305/305 [01:19<00:00,  3.83it/s]\n"
          ]
        },
        {
          "name": "stdout",
          "output_type": "stream",
          "text": [
            "Training at Epoch 33 model training loss 1.483022499866173, da loss 1.3810307424576556, total training loss 2.8640532423238287, DA lambda 1\n",
            "Validation at Epoch 33 with validation loss 1.310765956054654  AUROC 0.6855954049442989 AUPRC 0.7151328241990302\n"
          ]
        },
        {
          "name": "stderr",
          "output_type": "stream",
          "text": [
            "100%|█████████████████████████████████████████████████████████████████████████████████████████████████████████████████████| 305/305 [01:19<00:00,  3.85it/s]\n"
          ]
        },
        {
          "name": "stdout",
          "output_type": "stream",
          "text": [
            "Training at Epoch 34 model training loss 1.4812217806206376, da loss 1.3808934168737443, total training loss 2.8621151971035315, DA lambda 1\n",
            "Validation at Epoch 34 with validation loss 1.3566184765414189  AUROC 0.6788227008687917 AUPRC 0.7180335170596113\n"
          ]
        },
        {
          "name": "stderr",
          "output_type": "stream",
          "text": [
            "100%|█████████████████████████████████████████████████████████████████████████████████████████████████████████████████████| 305/305 [01:19<00:00,  3.85it/s]\n"
          ]
        },
        {
          "name": "stdout",
          "output_type": "stream",
          "text": [
            "Training at Epoch 35 model training loss 1.4677721590292259, da loss 1.3814943864697316, total training loss 2.8492665525342598, DA lambda 1\n",
            "Validation at Epoch 35 with validation loss 1.5146587666189462  AUROC 0.6722360166700558 AUPRC 0.7067037340150557\n"
          ]
        },
        {
          "name": "stderr",
          "output_type": "stream",
          "text": [
            "100%|█████████████████████████████████████████████████████████████████████████████████████████████████████████████████████| 305/305 [01:19<00:00,  3.84it/s]\n"
          ]
        },
        {
          "name": "stdout",
          "output_type": "stream",
          "text": [
            "Training at Epoch 36 model training loss 1.4552865559937525, da loss 1.3813372045266823, total training loss 2.8366237632563855, DA lambda 1\n",
            "Validation at Epoch 36 with validation loss 1.4251169214646022  AUROC 0.6551051665804957 AUPRC 0.6864885059843837\n"
          ]
        },
        {
          "name": "stderr",
          "output_type": "stream",
          "text": [
            "100%|█████████████████████████████████████████████████████████████████████████████████████████████████████████████████████| 305/305 [01:19<00:00,  3.83it/s]\n"
          ]
        },
        {
          "name": "stdout",
          "output_type": "stream",
          "text": [
            "Training at Epoch 37 model training loss 1.4645817150835132, da loss 1.3808953828498964, total training loss 2.8454770948066086, DA lambda 1\n",
            "Validation at Epoch 37 with validation loss 1.4906357628734488  AUROC 0.6642888341568968 AUPRC 0.7093364041849073\n"
          ]
        },
        {
          "name": "stderr",
          "output_type": "stream",
          "text": [
            "100%|█████████████████████████████████████████████████████████████████████████████████████████████████████████████████████| 305/305 [01:19<00:00,  3.82it/s]\n"
          ]
        },
        {
          "name": "stdout",
          "output_type": "stream",
          "text": [
            "Training at Epoch 38 model training loss 1.4560308604943948, da loss 1.3808568266571546, total training loss 2.8368876816796473, DA lambda 1\n",
            "Validation at Epoch 38 with validation loss 1.421268832265285  AUROC 0.6749820895077798 AUPRC 0.7206964845294539\n"
          ]
        },
        {
          "name": "stderr",
          "output_type": "stream",
          "text": [
            "100%|█████████████████████████████████████████████████████████████████████████████████████████████████████████████████████| 305/305 [01:20<00:00,  3.81it/s]\n"
          ]
        },
        {
          "name": "stdout",
          "output_type": "stream",
          "text": [
            "Training at Epoch 39 model training loss 1.4513702756068745, da loss 1.3832354694116311, total training loss 2.834605743064255, DA lambda 1\n",
            "Validation at Epoch 39 with validation loss 1.4497220686130357  AUROC 0.6763349889710274 AUPRC 0.7205192406939942\n"
          ]
        },
        {
          "name": "stderr",
          "output_type": "stream",
          "text": [
            "100%|█████████████████████████████████████████████████████████████████████████████████████████████████████████████████████| 305/305 [01:20<00:00,  3.81it/s]\n"
          ]
        },
        {
          "name": "stdout",
          "output_type": "stream",
          "text": [
            "Training at Epoch 40 model training loss 1.4558530268121939, da loss 1.381860137767479, total training loss 2.8377131626254224, DA lambda 1\n",
            "Validation at Epoch 40 with validation loss 1.4375048052323491  AUROC 0.6702018042104323 AUPRC 0.7156365078569272\n",
            "Test at Best Model of Epoch 28 with test loss 1.0727061012695576  AUROC 0.7080472624720412 AUPRC 0.7508040936442822 f1-score 0.6770292747698895 Specificity 0.7472527472527473 Accuracy 0.6438809261300992 Thred_optim 0.06892354786396027\n"
          ]
        }
      ],
      "source": [
        "#Test inductive on BioSNAP\n",
        "trainer = Trainer(model, opt, device, multi_generator, val_generator, test_generator, opt_da=opt_da,\n",
        "                          discriminator=domain_dmm,\n",
        "                          experiment=None, **cfg)\n",
        "result = trainer.train()"
      ]
    }
  ],
  "metadata": {
    "accelerator": "GPU",
    "colab": {
      "gpuType": "T4",
      "machine_shape": "hm",
      "provenance": []
    },
    "kernelspec": {
      "display_name": "Python 3 (ipykernel)",
      "language": "python",
      "name": "python3"
    },
    "language_info": {
      "codemirror_mode": {
        "name": "ipython",
        "version": 3
      },
      "file_extension": ".py",
      "mimetype": "text/x-python",
      "name": "python",
      "nbconvert_exporter": "python",
      "pygments_lexer": "ipython3",
      "version": "3.11.4"
    }
  },
  "nbformat": 4,
  "nbformat_minor": 0
}